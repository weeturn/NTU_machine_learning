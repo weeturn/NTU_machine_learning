{
 "cells": [
  {
   "cell_type": "code",
   "execution_count": 1,
   "metadata": {},
   "outputs": [],
   "source": [
    "import numpy as np\n",
    "import random"
   ]
  },
  {
   "cell_type": "code",
   "execution_count": 2,
   "metadata": {},
   "outputs": [],
   "source": [
    "def Makedata(data, N):\n",
    "    y = data[:, -1]\n",
    "    x = data[:, :-1]\n",
    "    x_new = np.c_[np.ones(N), x] # add first column\n",
    "    for i in range(2, 9):\n",
    "        addx = x**i\n",
    "        x_new = np.c_[x_new, addx]\n",
    "    return x_new, y"
   ]
  },
  {
   "cell_type": "code",
   "execution_count": 3,
   "metadata": {},
   "outputs": [],
   "source": [
    "def Compwlin(x, y):\n",
    "    pinv_x = np.linalg.pinv(x)\n",
    "    w_lin = pinv_x.dot(y)\n",
    "    return w_lin"
   ]
  },
  {
   "cell_type": "code",
   "execution_count": 4,
   "metadata": {},
   "outputs": [],
   "source": [
    "def E(x, y, w_lin, N):\n",
    "    E = 0\n",
    "    for i in range(N):\n",
    "        if (w_lin.transpose().dot(x[i]) * y[i]) <= 0:\n",
    "            E += 1\n",
    "    E /= N\n",
    "    return E"
   ]
  },
  {
   "cell_type": "code",
   "execution_count": 5,
   "metadata": {},
   "outputs": [
    {
     "name": "stdout",
     "output_type": "stream",
     "text": [
      "0.4576666666666667\n"
     ]
    }
   ],
   "source": [
    "train = np.loadtxt('https://www.csie.ntu.edu.tw/~htlin/course/ml21fall/hw3/hw3_train.dat')\n",
    "test = np.loadtxt('https://www.csie.ntu.edu.tw/~htlin/course/ml21fall/hw3/hw3_test.dat')\n",
    "train_x, train_y = Makedata(train, 1000)\n",
    "test_x, test_y = Makedata(test, 3000)\n",
    "w_lin = Compwlin(train_x, train_y)\n",
    "E_in = E(train_x, train_y, w_lin, 1000)\n",
    "E_out = E(test_x, test_y, w_lin, 3000)\n",
    "print(abs(E_in - E_out))"
   ]
  },
  {
   "cell_type": "code",
   "execution_count": null,
   "metadata": {},
   "outputs": [],
   "source": []
  }
 ],
 "metadata": {
  "kernelspec": {
   "display_name": "Python 3",
   "language": "python",
   "name": "python3"
  },
  "language_info": {
   "codemirror_mode": {
    "name": "ipython",
    "version": 3
   },
   "file_extension": ".py",
   "mimetype": "text/x-python",
   "name": "python",
   "nbconvert_exporter": "python",
   "pygments_lexer": "ipython3",
   "version": "3.9.2"
  }
 },
 "nbformat": 4,
 "nbformat_minor": 4
}
