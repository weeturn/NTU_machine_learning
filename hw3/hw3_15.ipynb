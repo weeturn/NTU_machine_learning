{
 "cells": [
  {
   "cell_type": "code",
   "execution_count": 29,
   "metadata": {},
   "outputs": [],
   "source": [
    "import numpy as np\n",
    "import random"
   ]
  },
  {
   "cell_type": "code",
   "execution_count": 30,
   "metadata": {},
   "outputs": [],
   "source": [
    "def ComputeTrainE(data, N, dim):\n",
    "    y = data[:, -1]\n",
    "    x = data[:, :-1]\n",
    "    x_new = np.c_[np.ones(N)] # add first column\n",
    "    for i in range(dim):\n",
    "        addx = x[:,i]\n",
    "        x_new = np.c_[x_new, addx]\n",
    "    \n",
    "    #compute w_lin\n",
    "    pinv_x = np.linalg.pinv(x_new)\n",
    "    w_lin = pinv_x.dot(y)\n",
    "    \n",
    "    #compute e\n",
    "    E = 0\n",
    "    for i in range(N):\n",
    "        if (w_lin.transpose().dot(x_new[i]) * y[i]) <= 0:\n",
    "            E += 1\n",
    "    E /= N\n",
    "    return E, w_lin"
   ]
  },
  {
   "cell_type": "code",
   "execution_count": 34,
   "metadata": {},
   "outputs": [],
   "source": [
    "def ComputeTestE(data, N, dim, w_lin):\n",
    "    y = data[:, -1]\n",
    "    x = data[:, :-1]\n",
    "    x_new = np.c_[np.ones(N)] # add first column\n",
    "    for i in range(dim):\n",
    "        addx = x[:,i]\n",
    "        x_new = np.c_[x_new, addx]\n",
    "    \n",
    "    #compute e\n",
    "    E = 0\n",
    "    for i in range(N):\n",
    "        if (w_lin.transpose().dot(x_new[i]) * y[i]) <= 0:\n",
    "            E += 1\n",
    "    E /= N\n",
    "    return E"
   ]
  },
  {
   "cell_type": "code",
   "execution_count": 35,
   "metadata": {},
   "outputs": [
    {
     "name": "stdout",
     "output_type": "stream",
     "text": [
      "1 0.418 0.5546666666666666\n",
      "2 0.407 0.5413333333333333\n",
      "3 0.403 0.5353333333333333\n",
      "4 0.402 0.5463333333333333\n",
      "5 0.368 0.6203333333333333\n",
      "6 0.33 0.6523333333333333\n",
      "7 0.311 0.5756666666666667\n",
      "8 0.275 0.5403333333333333\n",
      "9 0.254 0.5023333333333333\n",
      "10 0.203 0.5256666666666666\n",
      "3\n"
     ]
    }
   ],
   "source": [
    "train = np.loadtxt('https://www.csie.ntu.edu.tw/~htlin/course/ml21fall/hw3/hw3_train.dat')\n",
    "test = np.loadtxt('https://www.csie.ntu.edu.tw/~htlin/course/ml21fall/hw3/hw3_test.dat')\n",
    "minE = 99999\n",
    "ans = 99\n",
    "for i in range(1,11):\n",
    "    E_in, w_lin = ComputeTrainE(train, 1000, i)\n",
    "    E_out = ComputeTestE(test, 3000, i, w_lin)\n",
    "    print(i, E_in, E_out)\n",
    "    if (abs(E_in - E_out)) < minE:\n",
    "        minE = abs(E_in - E_out)\n",
    "        ans = i\n",
    "print(ans)"
   ]
  },
  {
   "cell_type": "code",
   "execution_count": null,
   "metadata": {},
   "outputs": [],
   "source": []
  }
 ],
 "metadata": {
  "kernelspec": {
   "display_name": "Python 3",
   "language": "python",
   "name": "python3"
  },
  "language_info": {
   "codemirror_mode": {
    "name": "ipython",
    "version": 3
   },
   "file_extension": ".py",
   "mimetype": "text/x-python",
   "name": "python",
   "nbconvert_exporter": "python",
   "pygments_lexer": "ipython3",
   "version": "3.9.2"
  }
 },
 "nbformat": 4,
 "nbformat_minor": 4
}
