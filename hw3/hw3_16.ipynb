{
 "cells": [
  {
   "cell_type": "code",
   "execution_count": 16,
   "metadata": {},
   "outputs": [],
   "source": [
    "import numpy as np\n",
    "import random"
   ]
  },
  {
   "cell_type": "code",
   "execution_count": 17,
   "metadata": {},
   "outputs": [],
   "source": [
    "def ComputeE(data1, data2):\n",
    "    y1 = data1[:, -1]\n",
    "    x1 = data1[:, :-1]\n",
    "    y2 = data2[:, -1]\n",
    "    x2 = data2[:, :-1]\n",
    "    x_new1 = np.c_[np.ones(1000)] # add first column\n",
    "    x_new2 = np.c_[np.ones(3000)] # add first column\n",
    "    r = random.sample(range(10), k = 5)\n",
    "    for i in range(5):\n",
    "        addx1 = x1[:, r[i]]\n",
    "        addx2 = x2[:, r[i]]\n",
    "        x_new1 = np.c_[x_new1, addx1]\n",
    "        x_new2 = np.c_[x_new2, addx2]\n",
    "    \n",
    "    #compute w_lin\n",
    "    pinv_x = np.linalg.pinv(x_new1)\n",
    "    w_lin = pinv_x.dot(y1)\n",
    "    \n",
    "    #compute e\n",
    "    E_in = 0\n",
    "    for i in range(1000):\n",
    "        if (w_lin.transpose().dot(x_new1[i]) * y1[i]) <= 0:\n",
    "            E_in += 1\n",
    "    E_in /= 1000\n",
    "    E_out = 0\n",
    "    for i in range(3000):\n",
    "        if (w_lin.transpose().dot(x_new2[i]) * y2[i]) <= 0:\n",
    "            E_out += 1\n",
    "    E_out /= 3000\n",
    "    return abs(E_in - E_out)"
   ]
  },
  {
   "cell_type": "code",
   "execution_count": 18,
   "metadata": {},
   "outputs": [
    {
     "name": "stdout",
     "output_type": "stream",
     "text": [
      "0.21102333333333342\n"
     ]
    }
   ],
   "source": [
    "train = np.loadtxt('https://www.csie.ntu.edu.tw/~htlin/course/ml21fall/hw3/hw3_train.dat')\n",
    "test = np.loadtxt('https://www.csie.ntu.edu.tw/~htlin/course/ml21fall/hw3/hw3_test.dat')\n",
    "ans = 0\n",
    "for i in range(200):\n",
    "    random.seed(i*12)\n",
    "    ans += ComputeE(train, test)\n",
    "ans/=200\n",
    "print(ans)"
   ]
  },
  {
   "cell_type": "code",
   "execution_count": null,
   "metadata": {},
   "outputs": [],
   "source": []
  }
 ],
 "metadata": {
  "kernelspec": {
   "display_name": "Python 3",
   "language": "python",
   "name": "python3"
  },
  "language_info": {
   "codemirror_mode": {
    "name": "ipython",
    "version": 3
   },
   "file_extension": ".py",
   "mimetype": "text/x-python",
   "name": "python",
   "nbconvert_exporter": "python",
   "pygments_lexer": "ipython3",
   "version": "3.9.2"
  }
 },
 "nbformat": 4,
 "nbformat_minor": 4
}
