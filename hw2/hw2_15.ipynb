{
 "cells": [
  {
   "cell_type": "code",
   "execution_count": 2,
   "metadata": {},
   "outputs": [],
   "source": [
    "import numpy as np\n",
    "import random\n",
    "\n",
    "def sigmoid(x):\n",
    "  \n",
    "    z = np.exp(-x)\n",
    "    sig = 1 / (1 + z)\n",
    "\n",
    "    return sig"
   ]
  },
  {
   "cell_type": "code",
   "execution_count": 4,
   "metadata": {},
   "outputs": [
    {
     "name": "stdout",
     "output_type": "stream",
     "text": [
      "Ans: 0.057805999999999996 0.05946799999999999\n"
     ]
    }
   ],
   "source": [
    "ans1, ans2 = 0 , 0\n",
    "for j in range(100):\n",
    "    random.seed(j+12345)\n",
    "    train_x = np.ones((200,3))\n",
    "    train_y = np.ones((200,1), dtype=int)\n",
    "    test_x = np.ones((5000,3))\n",
    "    test_y = np.ones((5000,1), dtype=int)\n",
    "\n",
    "    #mean\n",
    "    mean_posy_x1, mean_posy_x2 = 2, 3\n",
    "    mean_negy_x1, mean_negy_x2 = 0, 4\n",
    "    # standard deviation\n",
    "    sigma = 0.6**0.5\n",
    "    sigma2 = 0.4**0.5\n",
    "\n",
    "    for i in range(200):\n",
    "        if random.randint(0, 1) == 0:\n",
    "            train_y[i] = -1\n",
    "    for i in range(5000):\n",
    "        if random.randint(0, 1) == 0:\n",
    "            test_y[i] = -1\n",
    "\n",
    "    for i in range(200):\n",
    "        if train_y[i] == 1:\n",
    "            train_x[i][1] = np.random.normal(mean_posy_x1, sigma, 1)\n",
    "            train_x[i][2] = np.random.normal(mean_posy_x2, sigma, 1)\n",
    "        else:\n",
    "            train_x[i][1] = np.random.normal(mean_negy_x1, sigma2, 1)\n",
    "            train_x[i][2] = np.random.normal(mean_negy_x2, sigma2, 1)\n",
    "\n",
    "    for i in range(5000):\n",
    "        if test_y[i] == 1:\n",
    "            test_x[i][1] = np.random.normal(mean_posy_x1, sigma, 1)\n",
    "            test_x[i][2] = np.random.normal(mean_posy_x2, sigma, 1)\n",
    "        else:\n",
    "            test_x[i][1] = np.random.normal(mean_negy_x1, sigma2, 1)\n",
    "            test_x[i][2] = np.random.normal(mean_negy_x2, sigma2, 1)\n",
    "\n",
    "    pinv_x = np.linalg.pinv(train_x)\n",
    "    w_lin = pinv_x.dot(train_y)\n",
    "    # linear\n",
    "    E_out = 0\n",
    "    for i in range(5000):\n",
    "        if (w_lin.transpose().dot(test_x[i]) * test_y[i]) <= 0:\n",
    "            E_out += 1\n",
    "    E_out /= 5000\n",
    "    \n",
    "    # logistic\n",
    "    d_E_out2 = 0\n",
    "    eta = 0.1\n",
    "    T = 500\n",
    "    w = np.zeros(3)\n",
    "    #find w\n",
    "    for i in range(T):\n",
    "        for k in range(200):\n",
    "            d_E_out2 += sigmoid(-train_y[k]*(w.dot(train_x[k])))*(-train_y[k]*train_x[k])\n",
    "        d_E_out2 /= 200\n",
    "        w = w - eta * d_E_out2\n",
    "    \n",
    "    E_out2 = 0\n",
    "    for i in range(5000):\n",
    "        if (w.transpose().dot(test_x[i]) * test_y[i]) <= 0:\n",
    "            E_out2 += 1\n",
    "    E_out2 /= 5000\n",
    "    \n",
    "    #print(\"Turn: \",j,\" E_out1: \",E_out,\" E_out2: \",E_out2)\n",
    "    ans1 += E_out\n",
    "    ans2 += E_out2\n",
    "ans1 /= 100\n",
    "ans2 /= 100\n",
    "print(\"Ans:\", ans1, ans2)"
   ]
  },
  {
   "cell_type": "code",
   "execution_count": null,
   "metadata": {},
   "outputs": [],
   "source": []
  }
 ],
 "metadata": {
  "kernelspec": {
   "display_name": "Python 3",
   "language": "python",
   "name": "python3"
  },
  "language_info": {
   "codemirror_mode": {
    "name": "ipython",
    "version": 3
   },
   "file_extension": ".py",
   "mimetype": "text/x-python",
   "name": "python",
   "nbconvert_exporter": "python",
   "pygments_lexer": "ipython3",
   "version": "3.9.2"
  }
 },
 "nbformat": 4,
 "nbformat_minor": 4
}
