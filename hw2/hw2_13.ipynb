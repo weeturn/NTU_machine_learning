{
 "cells": [
  {
   "cell_type": "code",
   "execution_count": 2,
   "metadata": {},
   "outputs": [
    {
     "name": "stdout",
     "output_type": "stream",
     "text": [
      "Ans: [0.28270563]\n"
     ]
    }
   ],
   "source": [
    "import numpy as np\n",
    "import random\n",
    "\n",
    "ans = 0\n",
    "for i in range(100):\n",
    "    random.seed(i+1222231)\n",
    "    train_x = np.ones((200,3))\n",
    "    train_y = np.ones((200,1), dtype=int)\n",
    "    test_x = np.ones((5000,3))\n",
    "    test_y = np.ones((5000,1), dtype=int)\n",
    "\n",
    "    #mean\n",
    "    mean_posy_x1, mean_posy_x2 = 2, 3\n",
    "    mean_negy_x1, mean_negy_x2 = 0, 4\n",
    "    # standard deviation\n",
    "    sigma = 0.6**0.5\n",
    "    sigma2 = 0.4**0.5\n",
    "\n",
    "    for i in range(200):\n",
    "        if random.randint(0, 1) == 0:\n",
    "            train_y[i] = -1\n",
    "    for i in range(5000):\n",
    "        if random.randint(0, 1) == 0:\n",
    "            test_y[i] = -1\n",
    "\n",
    "    for i in range(200):\n",
    "        if train_y[i] == 1:\n",
    "            train_x[i][1] = np.random.normal(mean_posy_x1, sigma, 1)\n",
    "            train_x[i][2] = np.random.normal(mean_posy_x2, sigma, 1)\n",
    "        else:\n",
    "            train_x[i][1] = np.random.normal(mean_negy_x1, sigma2, 1)\n",
    "            train_x[i][2] = np.random.normal(mean_negy_x2, sigma2, 1)\n",
    "\n",
    "    for i in range(5000):\n",
    "        if test_y[i] == 1:\n",
    "            test_x[i][1] = np.random.normal(mean_posy_x1, sigma, 1)\n",
    "            test_x[i][2] = np.random.normal(mean_posy_x2, sigma, 1)\n",
    "        else:\n",
    "            test_x[i][1] = np.random.normal(mean_negy_x1, sigma2, 1)\n",
    "            test_x[i][2] = np.random.normal(mean_negy_x2, sigma2, 1)\n",
    "\n",
    "    pinv_x = np.linalg.pinv(train_x)\n",
    "    w_lin = pinv_x.dot(train_y)\n",
    "    #print(w_lin)\n",
    "\n",
    "    E_in = 0\n",
    "    for i in range(200):\n",
    "        E_in += (w_lin.transpose().dot(train_x[i]) - train_y[i])**2\n",
    "    E_in /= 200\n",
    "    #print(E_in)\n",
    "    ans += E_in\n",
    "ans /= 100\n",
    "print(\"Ans:\", ans)"
   ]
  },
  {
   "cell_type": "code",
   "execution_count": null,
   "metadata": {},
   "outputs": [],
   "source": []
  }
 ],
 "metadata": {
  "kernelspec": {
   "display_name": "Python 3",
   "language": "python",
   "name": "python3"
  },
  "language_info": {
   "codemirror_mode": {
    "name": "ipython",
    "version": 3
   },
   "file_extension": ".py",
   "mimetype": "text/x-python",
   "name": "python",
   "nbconvert_exporter": "python",
   "pygments_lexer": "ipython3",
   "version": "3.9.2"
  }
 },
 "nbformat": 4,
 "nbformat_minor": 4
}
