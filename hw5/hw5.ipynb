{
 "cells": [
  {
   "cell_type": "code",
   "execution_count": 25,
   "metadata": {},
   "outputs": [],
   "source": [
    "import numpy as np  \n",
    "import pandas as pd\n",
    "from libsvm.svmutil import * \n",
    "from sklearn.model_selection import train_test_split"
   ]
  },
  {
   "cell_type": "code",
   "execution_count": 26,
   "metadata": {},
   "outputs": [],
   "source": [
    "def read_data(file_path):\n",
    "    x, label = [], []\n",
    "    with open(file_path, \"r\") as f:\n",
    "        for idx, line in enumerate(f.readlines()):\n",
    "            tokens = [tokens for tokens in line.split()]\n",
    "            label.append(int(tokens[0]))\n",
    "            f = {}\n",
    "            for token in tokens[1:]:\n",
    "                k, v = token.split(\":\")\n",
    "                f[k] = float(v)\n",
    "            x.append(f)\n",
    "    x = pd.DataFrame(x, columns=[str(i)\n",
    "                     for i in range(1, 37)]).fillna(0).to_numpy()\n",
    "    y = np.array(label).reshape((-1,))\n",
    "    return y, x\n"
   ]
  },
  {
   "cell_type": "code",
   "execution_count": 27,
   "metadata": {},
   "outputs": [],
   "source": [
    "def Makedata(filename):\n",
    "    y = []\n",
    "    x = []\n",
    "    with open(filename, \"r\") as file:\n",
    "        f = file.readlines()\n",
    "        for lines in f:\n",
    "            x_in_line = [0]*36\n",
    "            line = lines.split()\n",
    "            y.append(int(line[0]))\n",
    "            for pair in line[1:]:\n",
    "                index, val = pair.split(':')\n",
    "                index = int(index)\n",
    "                val = float(val)\n",
    "                x_in_line[index-1] = val\n",
    "            x.append(x_in_line)\n",
    "    y = np.array(y).reshape((-1,))\n",
    "    x = np.array(x)\n",
    "    return  y, x"
   ]
  },
  {
   "cell_type": "code",
   "execution_count": 28,
   "metadata": {},
   "outputs": [],
   "source": [
    "dtrainy, dtrainx = svm_read_problem('satimage.scale')\n",
    "dtesty, dtestx = svm_read_problem('satimage.scale.t')"
   ]
  },
  {
   "cell_type": "code",
   "execution_count": 126,
   "metadata": {},
   "outputs": [
    {
     "name": "stdout",
     "output_type": "stream",
     "text": [
      "dist of w: 4.623086501965068\n"
     ]
    }
   ],
   "source": [
    "#q11\n",
    "trainy0 , testy0 = [], []\n",
    "for i in range(len(dtrainy)):\n",
    "    if dtrainy[i] == 5:\n",
    "        trainy0.append(1)\n",
    "    else: \n",
    "        trainy0.append(-1)\n",
    "m = svm_train(trainy0, dtrainx, \"-t 0 -c 10 -q\")\n",
    "SV = []\n",
    "for lines in m.get_SV():\n",
    "    x_in_line = [0]*36\n",
    "    for i in range(36):\n",
    "        if i in lines:\n",
    "            x_in_line[i] = lines[i]\n",
    "        else:\n",
    "            x_in_line[i] = 0\n",
    "    SV.append(x_in_line)\n",
    "w = np.dot(np.array(SV).transpose(), np.array(m.get_sv_coef()))\n",
    "dist = np.sqrt(np.square(w).sum())\n",
    "print(\"dist of w:\", dist)"
   ]
  },
  {
   "cell_type": "code",
   "execution_count": 127,
   "metadata": {},
   "outputs": [
    {
     "name": "stdout",
     "output_type": "stream",
     "text": [
      "1 Ein:  0.009 SV num: 171\n",
      "2 Ein:  0.008 SV num: 93\n",
      "3 Ein:  0.048 SV num: 385\n",
      "4 Ein:  0.08 SV num: 659\n",
      "5 Ein:  0.035 SV num: 281\n"
     ]
    }
   ],
   "source": [
    "# q12 13\n",
    "numbers = [1, 2, 3, 4, 5]\n",
    "for n in numbers:   \n",
    "    trainy1 , testy1 = [], []\n",
    "    for i in range(len(dtrainy)):\n",
    "        if dtrainy[i] == n:\n",
    "            trainy1.append(1)\n",
    "        else: \n",
    "            trainy1.append(-1)\n",
    "    for i in range(len(dtesty)):\n",
    "        if dtesty[i] == n:\n",
    "            testy1.append(1)\n",
    "        else: \n",
    "            testy1.append(-1)\n",
    "    m = svm_train(trainy1, dtrainx, \"-t 1 -g 1 -d 3 -r 1 -c 10 -q\")  \n",
    "    acc = svm_predict(testy1, dtestx, m, \"-q\")[1][0]\n",
    "    print(n, \"Ein: \", round(1-acc/100, 3), \"SV num:\", m.l)\n"
   ]
  },
  {
   "cell_type": "code",
   "execution_count": 128,
   "metadata": {},
   "outputs": [],
   "source": [
    "# q14\n",
    "trainy2, testy2 = [], []\n",
    "for i in range(len(dtrainy)):\n",
    "    if dtrainy[i] == 1:\n",
    "        trainy2.append(1)\n",
    "    else:\n",
    "        trainy2.append(-1)\n",
    "for i in range(len(dtesty)):\n",
    "    if dtesty[i] == 1:\n",
    "        testy2.append(1)\n",
    "    else:\n",
    "        testy2.append(-1)\n",
    "\n",
    "numbers = [0.01, 0.1, 1, 10, 100]\n",
    "for n in numbers:\n",
    "    m = svm_train(trainy2, dtrainx, '-t 2 -g 10 -c {} -q'.format(n))\n",
    "    acc = svm_predict(testy2, dtestx, m, \"-q\")[1][0]\n",
    "    print(n, \"Eout: \", round(1-acc/100, 7))\n"
   ]
  },
  {
   "cell_type": "code",
   "execution_count": 129,
   "metadata": {},
   "outputs": [],
   "source": [
    "#q15\n",
    "numbers = [0.1, 1, 10, 100, 1000]\n",
    "for n in numbers:\n",
    "    m = svm_train(trainy2, dtrainx, '-t 2 -g {} -c 0.1 -q'.format(n))\n",
    "    acc = svm_predict(testy2, dtestx, m, \"-q\")[1][0]\n",
    "    print(n, \"Eout: \", round(1-acc/100, 7))"
   ]
  },
  {
   "cell_type": "code",
   "execution_count": 130,
   "metadata": {},
   "outputs": [],
   "source": [
    "#q16\n",
    "count_best=[0]*5\n",
    "numbers = [0, 1, 2, 3, 4]\n",
    "for i in range(1000):\n",
    "    trainx3, valx, trainy3, valy = train_test_split(dtrainx, trainy2, test_size=200, random_state=i+1234)\n",
    "    bestacc = 0\n",
    "    bestnum = 0\n",
    "    for n in numbers:\n",
    "        m = svm_train(trainy3, trainx3, '-t 2 -g {} -c 0.1 -q'.format(10**(n-1)))\n",
    "        acc = svm_predict(valy, valx, m, \"-q\")[1][0]\n",
    "        if acc > bestacc:\n",
    "            bestacc = acc\n",
    "            bestnum = n\n",
    "    count_best[bestnum]+=1\n",
    "    print(i, \":\", count_best)\n",
    "print(count_best)"
   ]
  }
 ],
 "metadata": {
  "interpreter": {
   "hash": "611257df760a16e8f232e6073276b73e3f19b601c32a0247524e2df7af502fc1"
  },
  "kernelspec": {
   "display_name": "Python 3",
   "language": "python",
   "name": "python3"
  },
  "language_info": {
   "codemirror_mode": {
    "name": "ipython",
    "version": 3
   },
   "file_extension": ".py",
   "mimetype": "text/x-python",
   "name": "python",
   "nbconvert_exporter": "python",
   "pygments_lexer": "ipython3",
   "version": "3.9.2"
  }
 },
 "nbformat": 4,
 "nbformat_minor": 2
}
