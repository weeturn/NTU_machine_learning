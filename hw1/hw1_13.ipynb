{
 "cells": [
  {
   "cell_type": "code",
   "execution_count": 27,
   "metadata": {},
   "outputs": [
    {
     "name": "stdout",
     "output_type": "stream",
     "text": [
      "(100, 11)\n"
     ]
    }
   ],
   "source": [
    "import numpy as np\n",
    "import random\n",
    "data = np.loadtxt('https://www.csie.ntu.edu.tw/~htlin/course/ml21fall/hw1/hw1_train.dat')\n",
    "print(data.shape)\n",
    "N = 100"
   ]
  },
  {
   "cell_type": "code",
   "execution_count": 29,
   "metadata": {},
   "outputs": [
    {
     "name": "stdout",
     "output_type": "stream",
     "text": [
      "ans :  381.51036634161346\n"
     ]
    }
   ],
   "source": [
    "datas = np.c_[np.ones(N), data] # add first column\n",
    "y = datas[:, -1]\n",
    "x = datas[:, :-1]\n",
    "sq_len_sum = 0\n",
    "\n",
    "for i in range(1000):\n",
    "    w = np.zeros(11)\n",
    "    random.seed(i*10)\n",
    "    bad = 0\n",
    "\n",
    "    correct_count = 0\n",
    "    temp = random.randint(0, N-1)\n",
    "\n",
    "    # find w dot x != y \n",
    "    while correct_count <= 500:\n",
    "        if w.dot(x[temp]) == 0 and y[temp] == 1:\n",
    "            bad = temp\n",
    "            w += y[bad]*x[bad]\n",
    "            correct_count = 0\n",
    "        elif np.sign(w.dot(x[temp])) != y[temp]:\n",
    "            bad = temp\n",
    "            w += y[bad]*x[bad]\n",
    "            correct_count = 0\n",
    "        else:\n",
    "            temp = random.randint(0, N-1)\n",
    "            correct_count += 1\n",
    "\n",
    "    sqlength = w.dot(w)\n",
    "    #print(sqlength)\n",
    "    sq_len_sum += sqlength\n",
    "\n",
    "ans = sq_len_sum/1000\n",
    "print(\"ans : \", ans) #around 390"
   ]
  },
  {
   "cell_type": "code",
   "execution_count": null,
   "metadata": {},
   "outputs": [],
   "source": []
  }
 ],
 "metadata": {
  "kernelspec": {
   "display_name": "Python 3",
   "language": "python",
   "name": "python3"
  },
  "language_info": {
   "codemirror_mode": {
    "name": "ipython",
    "version": 3
   },
   "file_extension": ".py",
   "mimetype": "text/x-python",
   "name": "python",
   "nbconvert_exporter": "python",
   "pygments_lexer": "ipython3",
   "version": "3.9.2"
  }
 },
 "nbformat": 4,
 "nbformat_minor": 4
}
